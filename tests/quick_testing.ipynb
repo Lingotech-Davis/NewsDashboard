{
 "cells": [
  {
   "cell_type": "code",
   "execution_count": 1,
   "id": "049bd9da",
   "metadata": {},
   "outputs": [],
   "source": [
    "\n",
    "import os\n",
    "import requests\n",
    "# for scraping data and gettting encodings\n",
    "from newspaper import Article\n",
    "from newspaper.article import ArticleException"
   ]
  },
  {
   "cell_type": "code",
   "execution_count": null,
   "id": "bdbe0f99",
   "metadata": {},
   "outputs": [
    {
     "ename": "",
     "evalue": "",
     "output_type": "error",
     "traceback": [
      "\u001b[1;31mRunning cells with 'news-api (Python 3.10.12)' requires the ipykernel package.\n",
      "\u001b[1;31m<a href='command:jupyter.createPythonEnvAndSelectController'>Create a Python Environment</a> with the required packages.\n",
      "\u001b[1;31mOr install 'ipykernel' using the command: '/home/diego/py-envs/news-api/bin/python -m pip install ipykernel -U --force-reinstall'"
     ]
    }
   ],
   "source": [
    "\n",
    "NEWS_API_KEY = os.getenv(\"NEWS_API_KEY\")"
   ]
  },
  {
   "cell_type": "code",
   "execution_count": 3,
   "id": "9bad972b",
   "metadata": {},
   "outputs": [],
   "source": [
    "\n",
    "def rewrite_content(article_url):\n",
    "    \"\"\"\n",
    "    given a url to some article, return its content\n",
    "    this is really just a helper function. also has safeguards for articles that block the scraping tool. \n",
    "    \"\"\"\n",
    "    article = Article(article_url)\n",
    "    try: \n",
    "        article.download()\n",
    "        article.parse()\n",
    "    \n",
    "        # cleaning it up\n",
    "        text = article.text\n",
    "        filtered_lines = filter(str.strip, text.splitlines())\n",
    "        cleaned_text = \"\\n\".join(filtered_lines)\n",
    "        return cleaned_text\n",
    "\n",
    "    except ArticleException as e:\n",
    "        print(f\"[!] Skipping article at {article_url} — {e}\")\n",
    "        return None\n",
    "    "
   ]
  },
  {
   "cell_type": "code",
   "execution_count": 4,
   "id": "9613139e",
   "metadata": {},
   "outputs": [],
   "source": [
    "url = \"https://www.livescience.com/animals/land-mammals/virginia-opossums-the-american-marsupials-that-have-barely-changed-since-the-time-of-the-dinosaurs\""
   ]
  },
  {
   "cell_type": "code",
   "execution_count": 5,
   "id": "58d44063",
   "metadata": {},
   "outputs": [
    {
     "data": {
      "text/plain": [
       "'QUICK FACTS Name: Virginia opossum (Didelphis virginiana) Where it lives: Central and North America What it eats: Fruit, insects, small animals and carrion\\nWith their beady eyes, big ears, hairless tails and short, stocky legs, opossums are distinctive marsupials. Despite their odd appearance, these animals have a rich evolutionary history and have remained largely unchanged for millions of years. Their remarkable ability to adapt to different environments, food sources and predators has helped them survive from the time of the dinosaurs to today.\\nThe Virginia opossum is the only opossum species found in the United States and Canada. Opossums have the smallest brain-to-weight ratio of any North American mammal.\\nThe earliest known relatives of modern opossums lived over 65 million years ago, around the time dinosaurs went extinct. A 2009 study published in PLOS ONE found that peradectids, a family of marsupials known from fossils mostly in North America and Eurasia, are the closest extinct relatives of living opossums. Like modern opossums, peradectids had opposable thumbs on their hind feet and a similarly shaped skull — features that have remained nearly unchanged for millions of years. The earliest opossum fossils date back to the early Miocene epoch, roughly 20 million years ago.\\nOne key reason why opossums have survived for so long with few changes is because they are adaptable. These marsupials eat almost anything, including fruit, insects, small animals and animal carcasses. They can live anywhere from forests to urban backyards. And, although they are mostly nocturnal, they can sometimes be seen in daylight if food is scarce.\\nOpossums are also resistant to snake venom , particularly that of rattlesnakes and other pit vipers. This resistance is due to a protein called Lethal Toxin Neutralising Factor found in their blood, which can neutralize various toxins in snake venom. This enables opossums to prey on venomous snakes that would otherwise be a threat.\\nOpossum moms carry their babies around on their backs until they are about 12 weeks old. (Image credit: Specialjake CC BY-SA 3.0 , via Wikimedia Commons)\\nOpossums give birth to underdeveloped young, which crawl into a pouch and nurse for around eight weeks as they grow. Young opossums then ride on their mother\\'s back for several weeks until they become independent at 12 weeks old.\\nWhen threatened, opossums may growl, hiss, bare their teeth or climb a nearby tree to escape. If escape isn\\'t possible, they resort to \"playing dead\" — a defense mechanism known as thanatosis .\\nSign up for the Live Science daily newsletter now Get the world’s most fascinating discoveries delivered straight to your inbox. Contact me with news and offers from other Future brands Receive email from us on behalf of our trusted partners or sponsors'"
      ]
     },
     "execution_count": 5,
     "metadata": {},
     "output_type": "execute_result"
    }
   ],
   "source": [
    "rewrite_content(url)"
   ]
  },
  {
   "cell_type": "code",
   "execution_count": 6,
   "id": "1d2c3230",
   "metadata": {},
   "outputs": [],
   "source": [
    "article = Article(url)\n",
    "article.download()\n",
    "article.parse()\n",
    "\n",
    "# cleaning it up\n",
    "text = article.text\n",
    "filtered_lines = filter(str.strip, text.splitlines())\n",
    "cleaned_text = \"\\n\".join(filtered_lines)"
   ]
  },
  {
   "cell_type": "code",
   "execution_count": 7,
   "id": "b8e3e317",
   "metadata": {},
   "outputs": [
    {
     "data": {
      "text/plain": [
       "'Virginia opossums: The American marsupials that have barely changed since the time of the dinosaurs'"
      ]
     },
     "execution_count": 7,
     "metadata": {},
     "output_type": "execute_result"
    }
   ],
   "source": [
    "article.title"
   ]
  }
 ],
 "metadata": {
  "kernelspec": {
   "display_name": "news-api",
   "language": "python",
   "name": "python3"
  },
  "language_info": {
   "codemirror_mode": {
    "name": "ipython",
    "version": 3
   },
   "file_extension": ".py",
   "mimetype": "text/x-python",
   "name": "python",
   "nbconvert_exporter": "python",
   "pygments_lexer": "ipython3",
   "version": "3.10.12"
  }
 },
 "nbformat": 4,
 "nbformat_minor": 5
}
